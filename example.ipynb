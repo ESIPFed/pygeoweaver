{
 "cells": [
  {
   "cell_type": "code",
   "execution_count": 30,
   "outputs": [
    {
     "name": "stdout",
     "output_type": "stream",
     "text": [
      "Found existing installation: pygeoweaver 0.6.0\r\n",
      "Not uninstalling pygeoweaver at /Users/gokulprathin/PycharmProjects/pygeoweaver, outside environment /Users/gokulprathin/PycharmProjects/pygeoweaver/venv\r\n",
      "Can't uninstall 'pygeoweaver'. No files were found to uninstall.\r\n",
      "Obtaining file:///Users/gokulprathin/PycharmProjects/pygeoweaver\r\n",
      "  Installing build dependencies ... \u001B[?25ldone\r\n",
      "\u001B[?25h  Checking if build backend supports build_editable ... \u001B[?25ldone\r\n",
      "\u001B[?25h  Getting requirements to build editable ... \u001B[?25ldone\r\n",
      "\u001B[?25h  Installing backend dependencies ... \u001B[?25ldone\r\n",
      "\u001B[?25h  Preparing editable metadata (pyproject.toml) ... \u001B[?25ldone\r\n",
      "\u001B[?25hBuilding wheels for collected packages: pygeoweaver\r\n",
      "  Building editable for pygeoweaver (pyproject.toml) ... \u001B[?25ldone\r\n",
      "\u001B[?25h  Created wheel for pygeoweaver: filename=pygeoweaver-0.6.0-0.editable-py3-none-any.whl size=4008 sha256=5d11b0e13b3cbcef560b3f820638f7435fdb4b5c436b0ff50ebecfb9b10e14ee\r\n",
      "  Stored in directory: /private/var/folders/lw/rt7qqd6s6h5198mg2b6dlqlr0000gn/T/pip-ephem-wheel-cache-76m1206k/wheels/1a/77/17/d6f45e73d8d28da6dbaaee5486a02eeacc14363272575b56bb\r\n",
      "Successfully built pygeoweaver\r\n",
      "Installing collected packages: pygeoweaver\r\n",
      "  Attempting uninstall: pygeoweaver\r\n",
      "    Found existing installation: pygeoweaver 0.6.0\r\n",
      "    Not uninstalling pygeoweaver at /Users/gokulprathin/PycharmProjects/pygeoweaver, outside environment /Users/gokulprathin/PycharmProjects/pygeoweaver/venv\r\n",
      "    Can't uninstall 'pygeoweaver'. No files were found to uninstall.\r\n",
      "Successfully installed pygeoweaver-0.6.0\r\n",
      "\r\n",
      "\u001B[1m[\u001B[0m\u001B[34;49mnotice\u001B[0m\u001B[1;39;49m]\u001B[0m\u001B[39;49m A new release of pip available: \u001B[0m\u001B[31;49m22.3.1\u001B[0m\u001B[39;49m -> \u001B[0m\u001B[32;49m23.0.1\u001B[0m\r\n",
      "\u001B[1m[\u001B[0m\u001B[34;49mnotice\u001B[0m\u001B[1;39;49m]\u001B[0m\u001B[39;49m To update, run: \u001B[0m\u001B[32;49mpip install --upgrade pip\u001B[0m\r\n"
     ]
    }
   ],
   "source": [
    "!pip3 uninstall pygeoweaver\n",
    "!pip3 install -e .\n",
    "import pygeoweaver"
   ],
   "metadata": {
    "collapsed": false,
    "ExecuteTime": {
     "start_time": "2023-04-15T03:55:20.875274Z",
     "end_time": "2023-04-15T03:55:24.431925Z"
    }
   }
  },
  {
   "cell_type": "markdown",
   "source": [
    "## List hosts"
   ],
   "metadata": {
    "collapsed": false
   }
  },
  {
   "cell_type": "code",
   "execution_count": 31,
   "outputs": [
    {
     "ename": "TypeError",
     "evalue": "'module' object is not callable",
     "output_type": "error",
     "traceback": [
      "\u001B[0;31m---------------------------------------------------------------------------\u001B[0m",
      "\u001B[0;31mTypeError\u001B[0m                                 Traceback (most recent call last)",
      "Cell \u001B[0;32mIn[31], line 1\u001B[0m\n\u001B[0;32m----> 1\u001B[0m \u001B[43mpygeoweaver\u001B[49m\u001B[38;5;241;43m.\u001B[39;49m\u001B[43mlist_hosts\u001B[49m\u001B[43m(\u001B[49m\u001B[43m)\u001B[49m\n",
      "\u001B[0;31mTypeError\u001B[0m: 'module' object is not callable"
     ]
    }
   ],
   "source": [
    "pygeoweaver.list_hosts()"
   ],
   "metadata": {
    "collapsed": false,
    "ExecuteTime": {
     "start_time": "2023-04-15T03:51:52.978958Z",
     "end_time": "2023-04-15T03:51:52.991233Z"
    }
   }
  },
  {
   "cell_type": "code",
   "execution_count": null,
   "outputs": [],
   "source": [],
   "metadata": {
    "collapsed": false
   }
  }
 ],
 "metadata": {
  "kernelspec": {
   "display_name": "Python 3",
   "language": "python",
   "name": "python3"
  },
  "language_info": {
   "codemirror_mode": {
    "name": "ipython",
    "version": 2
   },
   "file_extension": ".py",
   "mimetype": "text/x-python",
   "name": "python",
   "nbconvert_exporter": "python",
   "pygments_lexer": "ipython2",
   "version": "2.7.6"
  }
 },
 "nbformat": 4,
 "nbformat_minor": 0
}
